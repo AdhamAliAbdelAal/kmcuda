{
 "cells": [
  {
   "cell_type": "code",
   "execution_count": 2,
   "metadata": {},
   "outputs": [
    {
     "name": "stdout",
     "output_type": "stream",
     "text": [
      "The 7 nearest neighbors to the target [0.83582606 0.66253667] are:\n",
      "Neighbor 1: Index = 9686, Distance = 0.005652603046296342, Point = [0.836122   0.65689182], Class = 0\n",
      "Neighbor 2: Index = 6094, Distance = 0.00897225555992831, Point = [0.84436509 0.65978233], Class = 0\n",
      "Neighbor 3: Index = 9373, Distance = 0.010109746310077987, Point = [0.82902036 0.67001259], Class = 1\n",
      "Neighbor 4: Index = 277, Distance = 0.01142962845737517, Point = [0.84542864 0.65633772], Class = 1\n",
      "Neighbor 5: Index = 8241, Distance = 0.01576823430500843, Point = [0.85141004 0.66494016], Class = 1\n",
      "Neighbor 6: Index = 1083, Distance = 0.018932254096073742, Point = [0.83719347 0.68141948], Class = 1\n",
      "Neighbor 7: Index = 2390, Distance = 0.020148987765070518, Point = [0.8461158  0.67986016], Class = 1\n"
     ]
    }
   ],
   "source": [
    "import numpy as np\n",
    "\n",
    "def read_data(file_path):\n",
    "    with open(file_path, 'r') as file:\n",
    "        k = int(file.readline().strip())\n",
    "        _, dim = map(int, file.readline().strip().split())\n",
    "        target = np.array(list(map(float, file.readline().strip().split())))\n",
    "        data = []\n",
    "        for i, line in enumerate(file):\n",
    "            elements = line.strip().split()\n",
    "            data.append((i, np.array(list(map(float, elements[:-1]))), elements[-1]))\n",
    "        return k, dim, target, data\n",
    "\n",
    "def euclidean_distance(point1, point2):\n",
    "    return np.linalg.norm(point1 - point2)\n",
    "\n",
    "def nearest_neighbors(k, target, data):\n",
    "    distances = [(euclidean_distance(target, point), i, point, cls) for i, point, cls in data]\n",
    "    distances.sort()\n",
    "    return distances[:k]\n",
    "\n",
    "def main():\n",
    "    file_path = '../tests/test_10000_2.txt'  # Change this to your file path\n",
    "    k, _, target, data = read_data(file_path)\n",
    "    neighbors = nearest_neighbors(k, target, data)\n",
    "    print(f\"The {k} nearest neighbors to the target {target} are:\")\n",
    "    for i, (distance, index, point, cls) in enumerate(neighbors, start=1):\n",
    "        print(f\"Neighbor {i}: Index = {index}, Distance = {distance}, Point = {point}, Class = {cls}\")\n",
    "\n",
    "if __name__ == \"__main__\":\n",
    "    main()\n"
   ]
  },
  {
   "cell_type": "code",
   "execution_count": null,
   "metadata": {},
   "outputs": [],
   "source": []
  }
 ],
 "metadata": {
  "kernelspec": {
   "display_name": "GP",
   "language": "python",
   "name": "python3"
  },
  "language_info": {
   "codemirror_mode": {
    "name": "ipython",
    "version": 3
   },
   "file_extension": ".py",
   "mimetype": "text/x-python",
   "name": "python",
   "nbconvert_exporter": "python",
   "pygments_lexer": "ipython3",
   "version": "3.10.12"
  }
 },
 "nbformat": 4,
 "nbformat_minor": 2
}
