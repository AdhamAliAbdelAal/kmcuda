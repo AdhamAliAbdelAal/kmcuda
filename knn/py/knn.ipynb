{
 "cells": [
  {
   "cell_type": "code",
   "execution_count": 17,
   "metadata": {},
   "outputs": [],
   "source": [
    "import numpy as np\n",
    "\n",
    "def read_data(file_path):\n",
    "    with open(file_path, 'r') as file:\n",
    "        k = int(file.readline().strip())\n",
    "        _, dim = map(int, file.readline().strip().split())\n",
    "        target = np.array(list(map(float, file.readline().strip().split())))\n",
    "        data = []\n",
    "        for i, line in enumerate(file):\n",
    "            elements = line.strip().split()\n",
    "            data.append((i, np.array(list(map(float, elements[:-1]))), elements[-1]))\n",
    "        return k, dim, target, data\n",
    "\n",
    "def euclidean_distance(point1, point2):\n",
    "    return np.linalg.norm(point1 - point2)\n",
    "\n",
    "def nearest_neighbors(k, target, data):\n",
    "    distances = [(euclidean_distance(target, point), i, point, cls) for i, point, cls in data]\n",
    "    distances.sort()\n",
    "    return distances[:k]\n",
    "\n",
    "def main():\n",
    "    file_path = '../tests/test_10000000_2.txt'  # Change this to your file path\n",
    "    k, _, target, data = read_data(file_path)\n",
    "    neighbors = nearest_neighbors(k, target, data)\n",
    "    print(f\"The {k} nearest neighbors to the target {target} are:\")\n",
    "    for i, (distance, index, point, cls) in enumerate(neighbors, start=1):\n",
    "        print(f\"Neighbor {i}: Index = {index}, Distance = {distance}, Point = {point}, Class = {cls}\")\n",
    "\n",
    "if __name__ == \"__main__\":\n",
    "    main()\n"
   ]
  },
  {
   "cell_type": "code",
   "execution_count": null,
   "metadata": {},
   "outputs": [],
   "source": []
  }
 ],
 "metadata": {
  "kernelspec": {
   "display_name": "GP",
   "language": "python",
   "name": "python3"
  },
  "language_info": {
   "codemirror_mode": {
    "name": "ipython",
    "version": 3
   },
   "file_extension": ".py",
   "mimetype": "text/x-python",
   "name": "python",
   "nbconvert_exporter": "python",
   "pygments_lexer": "ipython3",
   "version": "3.10.12"
  }
 },
 "nbformat": 4,
 "nbformat_minor": 2
}
