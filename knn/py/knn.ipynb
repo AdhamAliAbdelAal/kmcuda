{
 "cells": [
  {
   "cell_type": "code",
   "execution_count": 9,
   "metadata": {},
   "outputs": [
    {
     "name": "stdout",
     "output_type": "stream",
     "text": [
      "The 5 nearest neighbors to the target [0.52779334 0.16805235] are:\n",
      "Neighbor 1: Index = 5385596, Distance = 7.321434342576356e-05, Point = [0.52781698 0.16798306], Class = 0\n",
      "Neighbor 2: Index = 5586861, Distance = 0.00014039886092114093, Point = [0.52790922 0.16797308], Class = 0\n",
      "Neighbor 3: Index = 1440551, Distance = 0.00021854587389177028, Point = [0.52798451 0.16815825], Class = 0\n",
      "Neighbor 4: Index = 4352519, Distance = 0.000306072581994888, Point = [0.52763685 0.16778931], Class = 0\n",
      "Neighbor 5: Index = 7116525, Distance = 0.00039872494989017096, Point = [0.52803572 0.16836895], Class = 1\n"
     ]
    }
   ],
   "source": [
    "import numpy as np\n",
    "\n",
    "def read_data(file_path):\n",
    "    with open(file_path, 'r') as file:\n",
    "        k = int(file.readline().strip())\n",
    "        _, dim = map(int, file.readline().strip().split())\n",
    "        target = np.array(list(map(float, file.readline().strip().split())))\n",
    "        data = []\n",
    "        for i, line in enumerate(file):\n",
    "            elements = line.strip().split()\n",
    "            data.append((i, np.array(list(map(float, elements[:-1]))), elements[-1]))\n",
    "        return k, dim, target, data\n",
    "\n",
    "def euclidean_distance(point1, point2):\n",
    "    return np.linalg.norm(point1 - point2)\n",
    "\n",
    "def nearest_neighbors(k, target, data):\n",
    "    distances = [(euclidean_distance(target, point), i, point, cls) for i, point, cls in data]\n",
    "    distances.sort()\n",
    "    return distances[:k]\n",
    "\n",
    "def main():\n",
    "    file_path = '../tests/test_10000000_2.txt'  # Change this to your file path\n",
    "    k, _, target, data = read_data(file_path)\n",
    "    neighbors = nearest_neighbors(k, target, data)\n",
    "    print(f\"The {k} nearest neighbors to the target {target} are:\")\n",
    "    for i, (distance, index, point, cls) in enumerate(neighbors, start=1):\n",
    "        print(f\"Neighbor {i}: Index = {index}, Distance = {distance}, Point = {point}, Class = {cls}\")\n",
    "\n",
    "if __name__ == \"__main__\":\n",
    "    main()\n"
   ]
  },
  {
   "cell_type": "code",
   "execution_count": null,
   "metadata": {},
   "outputs": [],
   "source": []
  }
 ],
 "metadata": {
  "kernelspec": {
   "display_name": "GP",
   "language": "python",
   "name": "python3"
  },
  "language_info": {
   "codemirror_mode": {
    "name": "ipython",
    "version": 3
   },
   "file_extension": ".py",
   "mimetype": "text/x-python",
   "name": "python",
   "nbconvert_exporter": "python",
   "pygments_lexer": "ipython3",
   "version": "3.10.12"
  }
 },
 "nbformat": 4,
 "nbformat_minor": 2
}
