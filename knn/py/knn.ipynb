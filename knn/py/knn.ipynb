{
 "cells": [
  {
   "cell_type": "code",
   "execution_count": 7,
   "metadata": {},
   "outputs": [
    {
     "name": "stdout",
     "output_type": "stream",
     "text": [
      "The 5 nearest neighbors to the target [0.16038733 0.6615837 ] are:\n",
      "Neighbor 1: Index = 69, Distance = 0.07844554673826418, Point = [0.22750521 0.70219027], Class = 1\n",
      "Neighbor 2: Index = 95, Distance = 0.15592643649501847, Point = [0.10770864 0.80834203], Class = 0\n",
      "Neighbor 3: Index = 29, Distance = 0.1802898924728828, Point = [0.26382132 0.80925175], Class = 1\n",
      "Neighbor 4: Index = 23, Distance = 0.1833221859266314, Point = [0.00333341 0.75614104], Class = 1\n",
      "Neighbor 5: Index = 39, Distance = 0.18520879812011698, Point = [0.03776005 0.80038157], Class = 1\n"
     ]
    }
   ],
   "source": [
    "import numpy as np\n",
    "\n",
    "def read_data(file_path):\n",
    "    with open(file_path, 'r') as file:\n",
    "        k = int(file.readline().strip())\n",
    "        _, dim = map(int, file.readline().strip().split())\n",
    "        target = np.array(list(map(float, file.readline().strip().split())))\n",
    "        data = []\n",
    "        for i, line in enumerate(file):\n",
    "            elements = line.strip().split()\n",
    "            data.append((i, np.array(list(map(float, elements[:-1]))), elements[-1]))\n",
    "        return k, dim, target, data\n",
    "\n",
    "def euclidean_distance(point1, point2):\n",
    "    return np.linalg.norm(point1 - point2)\n",
    "\n",
    "def nearest_neighbors(k, target, data):\n",
    "    distances = [(euclidean_distance(target, point), i, point, cls) for i, point, cls in data]\n",
    "    distances.sort()\n",
    "    return distances[:k]\n",
    "\n",
    "def main():\n",
    "    file_path = '../tests/test_100_2.txt'  # Change this to your file path\n",
    "    k, _, target, data = read_data(file_path)\n",
    "    neighbors = nearest_neighbors(k, target, data)\n",
    "    print(f\"The {k} nearest neighbors to the target {target} are:\")\n",
    "    for i, (distance, index, point, cls) in enumerate(neighbors, start=1):\n",
    "        print(f\"Neighbor {i}: Index = {index}, Distance = {distance}, Point = {point}, Class = {cls}\")\n",
    "\n",
    "if __name__ == \"__main__\":\n",
    "    main()\n"
   ]
  },
  {
   "cell_type": "code",
   "execution_count": null,
   "metadata": {},
   "outputs": [],
   "source": []
  }
 ],
 "metadata": {
  "kernelspec": {
   "display_name": "GP",
   "language": "python",
   "name": "python3"
  },
  "language_info": {
   "codemirror_mode": {
    "name": "ipython",
    "version": 3
   },
   "file_extension": ".py",
   "mimetype": "text/x-python",
   "name": "python",
   "nbconvert_exporter": "python",
   "pygments_lexer": "ipython3",
   "version": "3.10.12"
  }
 },
 "nbformat": 4,
 "nbformat_minor": 2
}
